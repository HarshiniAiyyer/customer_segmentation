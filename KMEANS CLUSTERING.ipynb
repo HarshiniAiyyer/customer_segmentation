{
 "cells": [
  {
   "cell_type": "markdown",
   "metadata": {},
   "source": [
    "**CLUSTERING OF DATA USING K-MEANS CLUSTERING**"
   ]
  },
  {
   "cell_type": "code",
   "execution_count": 1,
   "metadata": {},
   "outputs": [],
   "source": [
    "import pandas as pd\n",
    "import numpy as np\n",
    "import matplotlib.pyplot as plt\n",
    "import seaborn as sns\n",
    "sns.set()\n",
    "from sklearn.cluster import KMeans"
   ]
  },
  {
   "cell_type": "markdown",
   "metadata": {},
   "source": [
    "**Reading the dataset**"
   ]
  },
  {
   "cell_type": "code",
   "execution_count": 11,
   "metadata": {},
   "outputs": [
    {
     "data": {
      "text/html": [
       "<div>\n",
       "<style scoped>\n",
       "    .dataframe tbody tr th:only-of-type {\n",
       "        vertical-align: middle;\n",
       "    }\n",
       "\n",
       "    .dataframe tbody tr th {\n",
       "        vertical-align: top;\n",
       "    }\n",
       "\n",
       "    .dataframe thead th {\n",
       "        text-align: right;\n",
       "    }\n",
       "</style>\n",
       "<table border=\"1\" class=\"dataframe\">\n",
       "  <thead>\n",
       "    <tr style=\"text-align: right;\">\n",
       "      <th></th>\n",
       "      <th>CreditScore</th>\n",
       "      <th>SpendingScore</th>\n",
       "    </tr>\n",
       "  </thead>\n",
       "  <tbody>\n",
       "    <tr>\n",
       "      <th>0</th>\n",
       "      <td>653</td>\n",
       "      <td>78</td>\n",
       "    </tr>\n",
       "    <tr>\n",
       "      <th>1</th>\n",
       "      <td>630</td>\n",
       "      <td>63</td>\n",
       "    </tr>\n",
       "    <tr>\n",
       "      <th>2</th>\n",
       "      <td>555</td>\n",
       "      <td>69</td>\n",
       "    </tr>\n",
       "    <tr>\n",
       "      <th>3</th>\n",
       "      <td>699</td>\n",
       "      <td>30</td>\n",
       "    </tr>\n",
       "    <tr>\n",
       "      <th>4</th>\n",
       "      <td>793</td>\n",
       "      <td>6</td>\n",
       "    </tr>\n",
       "    <tr>\n",
       "      <th>...</th>\n",
       "      <td>...</td>\n",
       "      <td>...</td>\n",
       "    </tr>\n",
       "    <tr>\n",
       "      <th>195</th>\n",
       "      <td>601</td>\n",
       "      <td>52</td>\n",
       "    </tr>\n",
       "    <tr>\n",
       "      <th>196</th>\n",
       "      <td>554</td>\n",
       "      <td>58</td>\n",
       "    </tr>\n",
       "    <tr>\n",
       "      <th>197</th>\n",
       "      <td>844</td>\n",
       "      <td>36</td>\n",
       "    </tr>\n",
       "    <tr>\n",
       "      <th>198</th>\n",
       "      <td>837</td>\n",
       "      <td>24</td>\n",
       "    </tr>\n",
       "    <tr>\n",
       "      <th>199</th>\n",
       "      <td>789</td>\n",
       "      <td>31</td>\n",
       "    </tr>\n",
       "  </tbody>\n",
       "</table>\n",
       "<p>200 rows × 2 columns</p>\n",
       "</div>"
      ],
      "text/plain": [
       "     CreditScore  SpendingScore\n",
       "0            653             78\n",
       "1            630             63\n",
       "2            555             69\n",
       "3            699             30\n",
       "4            793              6\n",
       "..           ...            ...\n",
       "195          601             52\n",
       "196          554             58\n",
       "197          844             36\n",
       "198          837             24\n",
       "199          789             31\n",
       "\n",
       "[200 rows x 2 columns]"
      ]
     },
     "execution_count": 11,
     "metadata": {},
     "output_type": "execute_result"
    }
   ],
   "source": [
    "df = pd.read_csv(r\"C:\\Users\\lenovo\\Downloads\\bar.csv\")\n",
    "df"
   ]
  },
  {
   "cell_type": "markdown",
   "metadata": {},
   "source": [
    "**Plotting the data**"
   ]
  },
  {
   "cell_type": "code",
   "execution_count": 5,
   "metadata": {},
   "outputs": [
    {
     "data": {
      "image/png": "[encoded data removed]",
      "text/plain": [
       "<Figure size 432x288 with 1 Axes>"
      ]
     },
     "metadata": {},
     "output_type": "display_data"
    }
   ],
   "source": [
    "plt.scatter(df['CreditScore'],df['SpendingScore'])\n",
    "plt.xlabel('CreditScore')\n",
    "plt.ylabel('SpendingScore')\n",
    "plt.show()"
   ]
  },
  {
   "cell_type": "markdown",
   "metadata": {},
   "source": [
    "**Clustering**\n",
    "\n",
    "We first select the features by copying them into another dataset. And then we choose to cluster them into 2 groups at first."
   ]
  },
  {
   "cell_type": "code",
   "execution_count": 12,
   "metadata": {},
   "outputs": [],
   "source": [
    "x = df.copy()"
   ]
  },
  {
   "cell_type": "code",
   "execution_count": 13,
   "metadata": {},
   "outputs": [
    {
     "data": {
      "text/plain": [
       "KMeans(n_clusters=2)"
      ]
     },
     "execution_count": 13,
     "metadata": {},
     "output_type": "execute_result"
    }
   ],
   "source": [
    "kmeans = KMeans(2)\n",
    "kmeans.fit(x)"
   ]
  },
  {
   "cell_type": "markdown",
   "metadata": {},
   "source": [
    "**To obtain results of the clustering**"
   ]
  },
  {
   "cell_type": "code",
   "execution_count": 14,
   "metadata": {},
   "outputs": [],
   "source": [
    "clusters = x.copy()\n",
    "clusters['Cluster_Prediction'] = kmeans.fit_predict(x)"
   ]
  },
  {
   "cell_type": "markdown",
   "metadata": {},
   "source": [
    "**Plotting the clustered data**"
   ]
  },
  {
   "cell_type": "code",
   "execution_count": 15,
   "metadata": {},
   "outputs": [
    {
     "ename": "TypeError",
     "evalue": "'function' object is not subscriptable",
     "output_type": "error",
     "traceback": [
      "\u001b[1;31m---------------------------------------------------------------------------\u001b[0m",
      "\u001b[1;31mTypeError\u001b[0m                                 Traceback (most recent call last)",
      "\u001b[1;32m<ipython-input-15-69f32607fd69>\u001b[0m in \u001b[0;36m<module>\u001b[1;34m\u001b[0m\n\u001b[0;32m      1\u001b[0m \u001b[0mplt\u001b[0m\u001b[1;33m.\u001b[0m\u001b[0mscatter\u001b[0m\u001b[1;33m(\u001b[0m\u001b[0mclusters\u001b[0m\u001b[1;33m[\u001b[0m\u001b[1;34m'CreditScore'\u001b[0m\u001b[1;33m]\u001b[0m\u001b[1;33m,\u001b[0m\u001b[0mclusters\u001b[0m\u001b[1;33m[\u001b[0m\u001b[1;34m'SpendingScore'\u001b[0m\u001b[1;33m]\u001b[0m\u001b[1;33m,\u001b[0m\u001b[0mc\u001b[0m \u001b[1;33m=\u001b[0m \u001b[0mclusters\u001b[0m\u001b[1;33m[\u001b[0m\u001b[1;34m'Cluster_Prediction'\u001b[0m\u001b[1;33m]\u001b[0m\u001b[1;33m,\u001b[0m\u001b[0mcmap\u001b[0m \u001b[1;33m=\u001b[0m \u001b[1;34m'rainbow'\u001b[0m\u001b[1;33m)\u001b[0m\u001b[1;33m\u001b[0m\u001b[1;33m\u001b[0m\u001b[0m\n\u001b[1;32m----> 2\u001b[1;33m \u001b[0mplt\u001b[0m\u001b[1;33m.\u001b[0m\u001b[0mxlabel\u001b[0m\u001b[1;33m[\u001b[0m\u001b[1;34m'CreditScore'\u001b[0m\u001b[1;33m]\u001b[0m\u001b[1;33m\u001b[0m\u001b[1;33m\u001b[0m\u001b[0m\n\u001b[0m\u001b[0;32m      3\u001b[0m \u001b[0mplt\u001b[0m\u001b[1;33m.\u001b[0m\u001b[0mylabel\u001b[0m\u001b[1;33m[\u001b[0m\u001b[1;34m'SpendingScore'\u001b[0m\u001b[1;33m]\u001b[0m\u001b[1;33m\u001b[0m\u001b[1;33m\u001b[0m\u001b[0m\n\u001b[0;32m      4\u001b[0m \u001b[0mplt\u001b[0m\u001b[1;33m.\u001b[0m\u001b[0mshow\u001b[0m\u001b[1;33m(\u001b[0m\u001b[1;33m)\u001b[0m\u001b[1;33m\u001b[0m\u001b[1;33m\u001b[0m\u001b[0m\n",
      "\u001b[1;31mTypeError\u001b[0m: 'function' object is not subscriptable"
     ]
    },
    {
     "data": {
      "image/png": "[encoded data removed]",
      "text/plain": [
       "<Figure size 432x288 with 1 Axes>"
      ]
     },
     "metadata": {},
     "output_type": "display_data"
    }
   ],
   "source": [
    "plt.scatter(clusters['CreditScore'],clusters['SpendingScore'],c = clusters['Cluster_Prediction'],cmap = 'rainbow')\n",
    "plt.xlabel['CreditScore']\n",
    "plt.ylabel['SpendingScore']\n",
    "plt.show()"
   ]
  },
  {
   "cell_type": "markdown",
   "metadata": {},
   "source": [
    "From the above result, it is to be noted that there are two huge groups of unorganized clusters where we can see few clusters within the larger two. Hence this calls for further clustering."
   ]
  },
  {
   "cell_type": "markdown",
   "metadata": {},
   "source": [
    "**We then standardize the variables**"
   ]
  },
  {
   "cell_type": "code",
   "execution_count": 16,
   "metadata": {},
   "outputs": [
    {
     "data": {
      "text/plain": [
       "array([[-0.64203672,  0.95267867],\n",
       "       [-0.86251966,  0.42913296],\n",
       "       [-1.58148576,  0.63855125],\n",
       "       [-0.20107085, -0.72266759],\n",
       "       [ 0.70003332, -1.56034072],\n",
       "       [-0.81458859,  1.61583657],\n",
       "       [ 1.54362021, -1.69995291],\n",
       "       [ 1.26561999,  0.91777562],\n",
       "       [-0.11479492, -1.00189197],\n",
       "       [-0.48865729,  1.61583657],\n",
       "       [-0.97755424, -1.31601939],\n",
       "       [-1.0158991 ,  0.39422992],\n",
       "       [-0.08603628,  0.46403601],\n",
       "       [-0.87210588, -0.75757064],\n",
       "       [ 0.4220331 ,  0.08010249],\n",
       "       [ 1.534034  , -0.51324931],\n",
       "       [ 0.08651559, -1.14150416],\n",
       "       [ 0.79589547, -0.0595097 ],\n",
       "       [ 0.93010247,  0.84796953],\n",
       "       [ 0.51789525,  1.16209695],\n",
       "       [-0.45989865,  1.2668061 ],\n",
       "       [-0.27776057, -0.47834626],\n",
       "       [-0.48865729,  1.2668061 ],\n",
       "       [-1.58148576,  0.46403601],\n",
       "       [ 0.5562401 ,  1.09229086],\n",
       "       [-0.92962316,  1.09229086],\n",
       "       [ 0.59458496,  0.28952078],\n",
       "       [-1.26514068,  0.21971468],\n",
       "       [-0.34486407, -0.82737673],\n",
       "       [-0.21065707, -0.54815236],\n",
       "       [-1.51438226, -1.2462133 ],\n",
       "       [ 0.51789525,  1.16209695],\n",
       "       [ 0.54665389,  1.61583657],\n",
       "       [ 0.46996417, -1.63014682],\n",
       "       [ 0.33575717, -0.09441274],\n",
       "       [ 0.66168846, -0.72266759],\n",
       "       [-1.38976147,  1.47622438],\n",
       "       [ 1.24644756,  0.91777562],\n",
       "       [-0.04769142,  1.61583657],\n",
       "       [-0.77624373,  0.95267867],\n",
       "       [ 0.93010247, -1.63014682],\n",
       "       [ 0.10568802,  0.95267867],\n",
       "       [-0.15313978, -0.40854017],\n",
       "       [-0.07645006, -1.38582549],\n",
       "       [-0.06686385,  1.61583657],\n",
       "       [ 1.47651671, -0.5830554 ],\n",
       "       [ 0.29741231,  1.72054571],\n",
       "       [ 0.39327446, -0.16421884],\n",
       "       [-0.83376102,  1.65073961],\n",
       "       [-0.84334723, -0.09441274],\n",
       "       [ 0.41244688,  0.39422992],\n",
       "       [-0.18189842, -0.30383103],\n",
       "       [ 0.61375739, -0.47834626],\n",
       "       [ 1.28479242, -0.51324931],\n",
       "       [-0.26817435,  0.70835734],\n",
       "       [ 0.29741231,  1.68564266],\n",
       "       [-0.6899678 , -0.33873407],\n",
       "       [ 1.39024078,  1.30170914],\n",
       "       [ 1.37106835, -0.89718283],\n",
       "       [-0.93920938, -1.49053463],\n",
       "       [ 0.93010247,  0.04519945],\n",
       "       [ 1.41899942, -1.07169806],\n",
       "       [ 1.23686134,  0.28952078],\n",
       "       [-1.48562361, -0.47834626],\n",
       "       [-0.52700215, -0.12931579],\n",
       "       [-0.84334723, -1.28111634],\n",
       "       [-0.47907108,  1.58093352],\n",
       "       [ 0.15361909, -0.37363712],\n",
       "       [-0.31610543, -0.09441274],\n",
       "       [-1.52396847,  0.67345429],\n",
       "       [ 1.64906857, -0.47834626],\n",
       "       [ 0.03858451, -1.35092244],\n",
       "       [-1.31307175,  1.72054571],\n",
       "       [ 0.38368824, -1.14150416],\n",
       "       [-1.58148576,  0.28952078],\n",
       "       [-0.07645006,  0.6036482 ],\n",
       "       [ 1.534034  ,  1.2668061 ],\n",
       "       [ 1.46693049, -1.10660111],\n",
       "       [-0.04769142, -1.45563158],\n",
       "       [ 1.69699964, -0.40854017],\n",
       "       [ 0.77672304, -0.6528615 ],\n",
       "       [-1.1501061 ,  0.18481163],\n",
       "       [ 0.46037796,  0.95267867],\n",
       "       [ 0.83424033,  0.21971468],\n",
       "       [-0.90086452, -1.38582549],\n",
       "       [-0.63245051,  0.18481163],\n",
       "       [ 0.21113638,  0.77816344],\n",
       "       [ 0.17279152, -0.37363712],\n",
       "       [ 0.8150679 , -0.75757064],\n",
       "       [ 0.84382654, -0.23402493],\n",
       "       [-0.91045073, -0.02460665],\n",
       "       [-0.23941571,  0.04519945],\n",
       "       [-0.61327808, -1.69995291],\n",
       "       [-0.40238136,  0.39422992],\n",
       "       [ 1.33272349,  0.11500554],\n",
       "       [-0.99672667, -0.19912188],\n",
       "       [ 1.35189592, -0.96698892],\n",
       "       [ 0.90134383,  1.02248477],\n",
       "       [-0.99672667,  0.56874515],\n",
       "       [-0.64203672, -1.69995291],\n",
       "       [-1.38976147, -1.10660111],\n",
       "       [-1.38017525, -0.79247369],\n",
       "       [-1.38976147, -0.93208587],\n",
       "       [-0.51741593, -0.44344321],\n",
       "       [ 1.49568914,  0.28952078],\n",
       "       [-1.45686497,  0.11500554],\n",
       "       [ 1.23686134,  0.0102964 ],\n",
       "       [-1.49520983,  0.98758172],\n",
       "       [-0.63245051, -0.47834626],\n",
       "       [-1.48562361,  0.74326039],\n",
       "       [ 0.59458496, -1.35092244],\n",
       "       [-0.50782972,  0.95267867],\n",
       "       [-1.2172096 , -0.37363712],\n",
       "       [-1.09258881, -1.2462133 ],\n",
       "       [-1.60065819,  1.72054571],\n",
       "       [ 1.02596462, -0.89718283],\n",
       "       [-1.5431409 , -1.42072853],\n",
       "       [ 0.82465411, -1.42072853],\n",
       "       [-0.95838181,  1.37151524],\n",
       "       [ 1.31355106, -1.49053463],\n",
       "       [ 0.80548168,  0.67345429],\n",
       "       [ 1.32313727,  0.88287258],\n",
       "       [-0.23941571, -1.31601939],\n",
       "       [ 0.76713683,  1.2668061 ],\n",
       "       [-0.92003695, -1.56034072],\n",
       "       [ 0.45079174, -0.16421884],\n",
       "       [-0.86251966, -0.54815236],\n",
       "       [ 0.84382654,  1.33661219],\n",
       "       [ 0.67127468,  1.72054571],\n",
       "       [ 0.05775694,  0.70835734],\n",
       "       [-0.92003695, -0.02460665],\n",
       "       [ 0.24948124, -1.00189197],\n",
       "       [ 1.67782722,  0.88287258],\n",
       "       [ 0.58499875,  1.47622438],\n",
       "       [ 1.41899942,  0.21971468],\n",
       "       [ 1.668241  ,  1.197     ],\n",
       "       [-0.12438113,  1.58093352],\n",
       "       [-1.6102444 , -0.61795845],\n",
       "       [ 1.16975784, -1.07169806],\n",
       "       [-1.46645118, -1.52543767],\n",
       "       [-0.80500237, -1.14150416],\n",
       "       [ 0.34534338, -1.00189197],\n",
       "       [ 1.668241  , -1.10660111],\n",
       "       [ 1.6011375 , -1.28111634],\n",
       "       [-0.69955401,  1.68564266],\n",
       "       [-0.60369187, -1.38582549],\n",
       "       [-1.0830026 , -0.30383103],\n",
       "       [-0.79541616, -0.72266759],\n",
       "       [ 1.57237885, -0.96698892],\n",
       "       [-1.61983062,  0.91777562],\n",
       "       [ 1.64906857,  0.77816344],\n",
       "       [-0.99672667, -0.40854017],\n",
       "       [ 1.59155128,  1.51112743],\n",
       "       [ 1.41899942,  0.25461773],\n",
       "       [-0.48865729, -0.6528615 ],\n",
       "       [-1.10217503,  0.14990859],\n",
       "       [ 1.28479242, -1.00189197],\n",
       "       [ 0.21113638,  0.95267867],\n",
       "       [ 0.79589547, -0.51324931],\n",
       "       [-0.12438113,  1.47622438],\n",
       "       [-0.83376102,  0.14990859],\n",
       "       [ 1.02596462,  1.197     ],\n",
       "       [ 0.21113638, -0.6528615 ],\n",
       "       [-1.2843131 ,  1.2668061 ],\n",
       "       [-1.33224418, -1.45563158],\n",
       "       [ 0.63292982,  0.11500554],\n",
       "       [-0.01893277,  1.23190305],\n",
       "       [ 0.33575717,  0.56874515],\n",
       "       [ 1.11224055, -0.40854017],\n",
       "       [ 0.04817073,  0.91777562],\n",
       "       [-1.40893389, -0.54815236],\n",
       "       [-1.10217503, -0.54815236],\n",
       "       [ 1.62989614, -0.19912188],\n",
       "       [-0.60369187,  0.84796953],\n",
       "       [ 0.56582632,  1.40641828],\n",
       "       [-0.51741593, -0.6528615 ],\n",
       "       [ 0.56582632,  1.33661219],\n",
       "       [ 1.18893027, -1.03679502],\n",
       "       [ 0.12486045, -1.10660111],\n",
       "       [-1.42810632,  0.35932687],\n",
       "       [-1.14051989,  0.35932687],\n",
       "       [-0.18189842,  1.44132133],\n",
       "       [ 1.13141298,  1.51112743],\n",
       "       [-1.40893389, -0.33873407],\n",
       "       [ 1.68741343, -1.63014682],\n",
       "       [ 0.99720598, -0.12931579],\n",
       "       [-1.00631288,  0.84796953],\n",
       "       [ 0.47955039, -1.38582549],\n",
       "       [ 1.06430948, -0.23402493],\n",
       "       [-0.42155379, -1.52543767],\n",
       "       [-1.5431409 ,  1.58093352],\n",
       "       [ 0.61375739, -0.5830554 ],\n",
       "       [-1.07341638, -1.21131025],\n",
       "       [-1.45686497, -0.19912188],\n",
       "       [ 1.08348191,  1.40641828],\n",
       "       [-1.14051989,  0.04519945],\n",
       "       [-1.59107197,  0.25461773],\n",
       "       [ 1.18893027, -0.51324931],\n",
       "       [ 1.12182677, -0.93208587],\n",
       "       [ 0.66168846, -0.68776454]])"
      ]
     },
     "execution_count": 16,
     "metadata": {},
     "output_type": "execute_result"
    }
   ],
   "source": [
    "from sklearn import preprocessing\n",
    "x_sc = preprocessing.scale(x)\n",
    "x_sc"
   ]
  },
  {
   "cell_type": "markdown",
   "metadata": {},
   "source": [
    "**The elbow method**"
   ]
  },
  {
   "cell_type": "code",
   "execution_count": 18,
   "metadata": {},
   "outputs": [
    {
     "data": {
      "text/plain": [
       "[399.9999999999998,\n",
       " 247.54135837577272,\n",
       " 142.31312280316146,\n",
       " 96.87958425228581,\n",
       " 80.237684136461,\n",
       " 68.01386602456867,\n",
       " 56.95824798183168,\n",
       " 48.03046013506051,\n",
       " 42.7405463909854,\n",
       " 37.25995647979123,\n",
       " 33.35399627413518,\n",
       " 29.761718101930956,\n",
       " 27.247308473776766,\n",
       " 25.26437887410289,\n",
       " 23.405618985522842,\n",
       " 21.6142139682159,\n",
       " 19.82009155213603,\n",
       " 18.40524114078974,\n",
       " 17.141007589755738,\n",
       " 16.373639836793593,\n",
       " 14.689506246997926,\n",
       " 13.804420245704788,\n",
       " 13.523111935990134,\n",
       " 12.38623541371577,\n",
       " 11.887769837177057,\n",
       " 11.34339455110223,\n",
       " 10.421826109880788,\n",
       " 10.302667990226924,\n",
       " 9.585731549470793,\n",
       " 9.2760896019582,\n",
       " 8.627463743233385,\n",
       " 8.4300255935784,\n",
       " 7.802027086595898,\n",
       " 7.387359752040858,\n",
       " 7.275629978949911,\n",
       " 7.020759916298426,\n",
       " 6.586897227652946,\n",
       " 6.2367915444899396,\n",
       " 6.0934842442766515,\n",
       " 5.588474033666397,\n",
       " 5.516932876010629,\n",
       " 5.334808869892152,\n",
       " 5.168346455037207,\n",
       " 4.736483570896442,\n",
       " 4.814799435120368,\n",
       " 4.601657644569366,\n",
       " 4.359281820293319,\n",
       " 4.270666332899642,\n",
       " 4.143711332308732]"
      ]
     },
     "execution_count": 18,
     "metadata": {},
     "output_type": "execute_result"
    }
   ],
   "source": [
    "array_time = []\n",
    "for i in range(1,50):\n",
    "    kmeans = KMeans(i)\n",
    "    kmeans.fit(x_sc)\n",
    "    array_time.append(kmeans.inertia_)\n",
    "array_time"
   ]
  },
  {
   "cell_type": "markdown",
   "metadata": {},
   "source": [
    "**Visualizing the elbow method**"
   ]
  },
  {
   "cell_type": "code",
   "execution_count": 24,
   "metadata": {
    "scrolled": true
   },
   "outputs": [
    {
     "data": {
      "image/png": "[encoded data removed]",
      "text/plain": [
       "<Figure size 432x288 with 1 Axes>"
      ]
     },
     "metadata": {},
     "output_type": "display_data"
    }
   ],
   "source": [
    "plt.plot(array_time,color=\"r\")\n",
    "plt.xlabel('Number of clusters')\n",
    "plt.ylabel('WCSS')\n",
    "plt.show()"
   ]
  },
  {
   "cell_type": "markdown",
   "metadata": {},
   "source": [
    "Now that we have obtained the graph, we now cluster the new set of groups."
   ]
  },
  {
   "cell_type": "markdown",
   "metadata": {},
   "source": [
    "**Clustering new groups**"
   ]
  },
  {
   "cell_type": "code",
   "execution_count": 25,
   "metadata": {},
   "outputs": [
    {
     "data": {
      "text/html": [
       "<div>\n",
       "<style scoped>\n",
       "    .dataframe tbody tr th:only-of-type {\n",
       "        vertical-align: middle;\n",
       "    }\n",
       "\n",
       "    .dataframe tbody tr th {\n",
       "        vertical-align: top;\n",
       "    }\n",
       "\n",
       "    .dataframe thead th {\n",
       "        text-align: right;\n",
       "    }\n",
       "</style>\n",
       "<table border=\"1\" class=\"dataframe\">\n",
       "  <thead>\n",
       "    <tr style=\"text-align: right;\">\n",
       "      <th></th>\n",
       "      <th>CreditScore</th>\n",
       "      <th>SpendingScore</th>\n",
       "      <th>Cluster_Prediction</th>\n",
       "    </tr>\n",
       "  </thead>\n",
       "  <tbody>\n",
       "    <tr>\n",
       "      <th>0</th>\n",
       "      <td>653</td>\n",
       "      <td>78</td>\n",
       "      <td>3</td>\n",
       "    </tr>\n",
       "    <tr>\n",
       "      <th>1</th>\n",
       "      <td>630</td>\n",
       "      <td>63</td>\n",
       "      <td>3</td>\n",
       "    </tr>\n",
       "    <tr>\n",
       "      <th>2</th>\n",
       "      <td>555</td>\n",
       "      <td>69</td>\n",
       "      <td>3</td>\n",
       "    </tr>\n",
       "    <tr>\n",
       "      <th>3</th>\n",
       "      <td>699</td>\n",
       "      <td>30</td>\n",
       "      <td>1</td>\n",
       "    </tr>\n",
       "    <tr>\n",
       "      <th>4</th>\n",
       "      <td>793</td>\n",
       "      <td>6</td>\n",
       "      <td>2</td>\n",
       "    </tr>\n",
       "    <tr>\n",
       "      <th>...</th>\n",
       "      <td>...</td>\n",
       "      <td>...</td>\n",
       "      <td>...</td>\n",
       "    </tr>\n",
       "    <tr>\n",
       "      <th>195</th>\n",
       "      <td>601</td>\n",
       "      <td>52</td>\n",
       "      <td>3</td>\n",
       "    </tr>\n",
       "    <tr>\n",
       "      <th>196</th>\n",
       "      <td>554</td>\n",
       "      <td>58</td>\n",
       "      <td>3</td>\n",
       "    </tr>\n",
       "    <tr>\n",
       "      <th>197</th>\n",
       "      <td>844</td>\n",
       "      <td>36</td>\n",
       "      <td>2</td>\n",
       "    </tr>\n",
       "    <tr>\n",
       "      <th>198</th>\n",
       "      <td>837</td>\n",
       "      <td>24</td>\n",
       "      <td>2</td>\n",
       "    </tr>\n",
       "    <tr>\n",
       "      <th>199</th>\n",
       "      <td>789</td>\n",
       "      <td>31</td>\n",
       "      <td>2</td>\n",
       "    </tr>\n",
       "  </tbody>\n",
       "</table>\n",
       "<p>200 rows × 3 columns</p>\n",
       "</div>"
      ],
      "text/plain": [
       "     CreditScore  SpendingScore  Cluster_Prediction\n",
       "0            653             78                   3\n",
       "1            630             63                   3\n",
       "2            555             69                   3\n",
       "3            699             30                   1\n",
       "4            793              6                   2\n",
       "..           ...            ...                 ...\n",
       "195          601             52                   3\n",
       "196          554             58                   3\n",
       "197          844             36                   2\n",
       "198          837             24                   2\n",
       "199          789             31                   2\n",
       "\n",
       "[200 rows x 3 columns]"
      ]
     },
     "execution_count": 25,
     "metadata": {},
     "output_type": "execute_result"
    }
   ],
   "source": [
    "kmeans_new = KMeans(4)\n",
    "kmeans.fit(x_sc)\n",
    "cluster_new = x.copy()\n",
    "cluster_new['Cluster_Prediction'] = kmeans_new.fit_predict(x_sc)\n",
    "cluster_new"
   ]
  },
  {
   "cell_type": "markdown",
   "metadata": {},
   "source": [
    "**Plotting the new cluster**"
   ]
  },
  {
   "cell_type": "code",
   "execution_count": 26,
   "metadata": {},
   "outputs": [
    {
     "data": {
      "image/png": "[encoded data removed]",
      "text/plain": [
       "<Figure size 432x288 with 1 Axes>"
      ]
     },
     "metadata": {},
     "output_type": "display_data"
    }
   ],
   "source": [
    "plt.scatter(cluster_new['CreditScore'],cluster_new['SpendingScore'], c = cluster_new['Cluster_Prediction'], cmap = 'rainbow')\n",
    "plt.xlabel('CreditScore')\n",
    "plt.ylabel('SpendingScore')\n",
    "plt.show()"
   ]
  },
  {
   "cell_type": "markdown",
   "metadata": {},
   "source": []
  },
  {
   "cell_type": "code",
   "execution_count": null,
   "metadata": {},
   "outputs": [],
   "source": []
  }
 ],
 "metadata": {
  "kernelspec": {
   "display_name": "Python 3",
   "language": "python",
   "name": "python3"
  },
  "language_info": {
   "codemirror_mode": {
    "name": "ipython",
    "version": 3
   },
   "file_extension": ".py",
   "mimetype": "text/x-python",
   "name": "python",
   "nbconvert_exporter": "python",
   "pygments_lexer": "ipython3",
   "version": "3.8.5"
  }
 },
 "nbformat": 4,
 "nbformat_minor": 4
}
